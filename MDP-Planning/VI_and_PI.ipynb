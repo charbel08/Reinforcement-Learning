{
 "cells": [
  {
   "cell_type": "markdown",
   "id": "elegant-flooring",
   "metadata": {},
   "source": [
    "# Assignment 1"
   ]
  },
  {
   "cell_type": "code",
   "execution_count": 96,
   "id": "characteristic-middle",
   "metadata": {},
   "outputs": [],
   "source": [
    "import time\n",
    "import numpy as np\n",
    "import matplotlib.pyplot as plt\n",
    "from gridworld import StochasticGridworld, DeterministicGridworld, make_random_gridworld\n",
    "from agents import RandomAgent, Agent"
   ]
  },
  {
   "cell_type": "markdown",
   "id": "little-contact",
   "metadata": {},
   "source": [
    "## Task 1"
   ]
  },
  {
   "cell_type": "code",
   "execution_count": 97,
   "id": "light-baptist",
   "metadata": {},
   "outputs": [
    {
     "name": "stdout",
     "output_type": "stream",
     "text": [
      "Average return: 102.55\n",
      "Standard deviation: 50.30931822237308\n"
     ]
    }
   ],
   "source": [
    "task = StochasticGridworld()\n",
    "random_agent = RandomAgent(task.observation_space, task.action_space)\n",
    "\n",
    "obs = task.reset()\n",
    "\n",
    "rewards = np.zeros((100, 100))\n",
    "for run in range(100):\n",
    "    for step in range(100):\n",
    "        act = random_agent(obs)\n",
    "        obs, rew, done, info = task.step(act)\n",
    "        rewards[run, step] = rew\n",
    "        \n",
    "print(\"Average return: {}\".format(rewards.sum(1).mean()))\n",
    "print(\"Standard deviation: {}\".format(rewards.sum(1).std()))"
   ]
  },
  {
   "cell_type": "markdown",
   "id": "invisible-syndication",
   "metadata": {},
   "source": [
    "## Task 2"
   ]
  },
  {
   "cell_type": "code",
   "execution_count": 89,
   "id": "executed-affairs",
   "metadata": {},
   "outputs": [
    {
     "name": "stdout",
     "output_type": "stream",
     "text": [
      "Average return: 393.33\n",
      "Standard deviation: 50.95037880133964\n"
     ]
    }
   ],
   "source": [
    "class PolicyIterationAgent(Agent):\n",
    "    \n",
    "    def __init__(self, observation_space, action_space, gamma=0.9):   \n",
    "        self.actions = action_space\n",
    "        self.states = observation_space\n",
    "        \n",
    "        self.policy = np.zeros((self.states,), dtype=np.int)\n",
    "        self.values  = np.zeros((self.states,), dtype=np.int)\n",
    "        \n",
    "        self.gamma = gamma\n",
    "\n",
    "    def policy_evaluation(self, transitions, rewards):\n",
    "        \"\"\"\n",
    "        transitions: np.array of size (S, A, S), with the corresponding to the current state, \n",
    "            the second to the action, and the third to the next state. The matrix encodes transition\n",
    "            probabilities\n",
    "        rewards: np.array of size (S) with single step rewards (reward are given for current state and are \n",
    "            independent of action)\n",
    "        \n",
    "        returns np.array of size(S) with new values after one step of policy evaluation\n",
    "        \"\"\"\n",
    "        S, A, S_prime = transitions.shape\n",
    "        values = np.zeros((S))\n",
    "        \n",
    "        for s in range(S):\n",
    "            value = 0\n",
    "            action = self.policy[s] \n",
    "            for s_prime in range(S_prime):\n",
    "                value += transitions[s, action, s_prime] * (rewards[s] + self.gamma * self.values[s_prime])\n",
    "\n",
    "            values[s] = value\n",
    "        \n",
    "        return values\n",
    "                \n",
    "        \n",
    "    def policy_improvement(self, transitions, rewards):\n",
    "        \"\"\"\n",
    "        transitions: np.array of size (S, A, S), with the corresponding to the current state, \n",
    "            the second to the action, and the third to the next state. The matrix encodes transition\n",
    "            probabilities\n",
    "        rewards: np.array of size (S) with single step rewards (reward are given for current state and are \n",
    "            independent of action)\n",
    "        \n",
    "        returns np.array of size(S) with new actions after one step of policy improvement\n",
    "        \"\"\"\n",
    "  \n",
    "        S, A, S_prime = transitions.shape\n",
    "        all_values = np.zeros((S, A))\n",
    "        \n",
    "        for s in range(S):\n",
    "            for a in range(A):\n",
    "                value = 0\n",
    "                for s_prime in range(S_prime):\n",
    "                    value += transitions[s, a, s_prime] * (rewards[s] + self.gamma * self.values[s_prime])\n",
    "\n",
    "                all_values[s, a] = value\n",
    "\n",
    "        return np.argmax(all_values, axis=1)\n",
    "            \n",
    " \n",
    "    def run_policy_iteration(self, transitions, rewards):\n",
    "        \"\"\"\n",
    "        Implements the main policy improvement loop. Do not change this code!\n",
    "        \"\"\"\n",
    "        done_policy = False\n",
    "        \n",
    "        while not done_policy:\n",
    "            done_value = False\n",
    "            \n",
    "            while not done_value:\n",
    "                last_values = self.values.copy()\n",
    "                self.values = self.policy_evaluation(transitions, rewards)\n",
    "                done_value = np.all(np.isclose(last_values, self.values))\n",
    "            last_policy = self.policy.copy()\n",
    "            self.policy = self.policy_improvement(transitions, rewards)\n",
    "            done_policy = np.all(last_policy == self.policy)\n",
    "        \n",
    "            \n",
    "agent = PolicyIterationAgent(task.observation_space, task.action_space)\n",
    "agent.run_policy_iteration(task.state_transition, task.rewards)\n",
    "\n",
    "obs = task.reset()\n",
    "\n",
    "rewards = np.zeros((100, 100))\n",
    "for run in range(100):\n",
    "    for step in range(100):\n",
    "        act = agent(obs)\n",
    "        obs, rew, done, info = task.step(act)\n",
    "        rewards[run, step] = rew\n",
    "        \n",
    "print(\"Average return: {}\".format(rewards.sum(1).mean()))\n",
    "print(\"Standard deviation: {}\".format(rewards.sum(1).std()))"
   ]
  },
  {
   "cell_type": "markdown",
   "id": "premier-metadata",
   "metadata": {},
   "source": [
    "## Task 3"
   ]
  },
  {
   "cell_type": "code",
   "execution_count": 73,
   "id": "convertible-antarctica",
   "metadata": {},
   "outputs": [
    {
     "name": "stdout",
     "output_type": "stream",
     "text": [
      "Average return: 393.77\n"
     ]
    }
   ],
   "source": [
    "class ValueIterationAgent(Agent):\n",
    "    \n",
    "    def __init__(self, observation_space, action_space, gamma=0.9):   \n",
    "        self.actions = action_space\n",
    "        self.states = observation_space\n",
    "        \n",
    "        self.policy = np.zeros((self.states,), dtype=np.int)\n",
    "        self.values  = np.zeros((self.states,), dtype=np.int)\n",
    "        \n",
    "        self.gamma = gamma\n",
    "\n",
    "    def policy_evaluation(self, transitions, rewards):\n",
    "        \"\"\"\n",
    "        transitions: np.array of size (S, A, S), with the corresponding to the current state, \n",
    "            the second to the action, and the third to the next state. The matrix encodes transition\n",
    "            probabilities\n",
    "        rewards: np.array of size (S) with single step rewards (reward are given for current state and are \n",
    "            independent of action)\n",
    "        \n",
    "        returns np.array of size(S) with new values after one step of policy evaluation\n",
    "        \"\"\"\n",
    "        \n",
    "        S, A, S_prime = transitions.shape\n",
    "        all_values = np.zeros((S, A))\n",
    "        \n",
    "        for s in range(S):\n",
    "            for a in range(A):\n",
    "                value = 0\n",
    "                for s_prime in range(S_prime):\n",
    "                    value += transitions[s, a, s_prime] * (rewards[s] + self.gamma * self.values[s_prime])\n",
    "                all_values[s, a] = value\n",
    "        \n",
    "        return np.max(all_values, axis=1)\n",
    "        \n",
    "    def policy_improvement(self, transitions, rewards):\n",
    "        \"\"\"\n",
    "        transitions: np.array of size (S, A, S), with the corresponding to the current state, \n",
    "            the second to the action, and the third to the next state. The matrix encodes transition\n",
    "            probabilities\n",
    "        rewards: np.array of size (S) with single step rewards (reward are given for current state and are \n",
    "            independent of action)\n",
    "        \n",
    "        returns np.array of size(S) with new actions after one step of policy improvement\n",
    "        \"\"\"\n",
    "        S, A, S_prime = transitions.shape\n",
    "        all_values = np.zeros((S, A))\n",
    "        \n",
    "        for s in range(S):\n",
    "            for a in range(A):\n",
    "                value = 0\n",
    "                for s_prime in range(S_prime):\n",
    "                    value += transitions[s, a, s_prime] * (rewards[s] + self.gamma * self.values[s_prime])\n",
    "                all_values[s, a] = value\n",
    "   \n",
    "        return np.argmax(all_values, axis=1)\n",
    "        \n",
    "    def run_value_iteration(self, transitions, rewards):\n",
    "        \n",
    "        done_value = False\n",
    "        \n",
    "        while not done_value:\n",
    "            last_values = self.values.copy()\n",
    "            self.values = self.policy_evaluation(transitions, rewards)\n",
    "            done_value = np.all(np.isclose(last_values, self.values))\n",
    "            \n",
    "        self.policy = self.policy_improvement(transitions, rewards)\n",
    "        \n",
    "agent = ValueIterationAgent(task.observation_space, task.action_space)\n",
    "agent.run_value_iteration(task.state_transition, task.rewards)\n",
    "\n",
    "obs = task.reset()\n",
    "\n",
    "rewards = np.zeros((100, 100))\n",
    "for run in range(100):\n",
    "    for step in range(100):\n",
    "        act = agent(obs)\n",
    "        obs, rew, done, info = task.step(act)\n",
    "        rewards[run, step] = rew\n",
    "        \n",
    "print(\"Average return: {}\".format(rewards.sum(1).mean()))\n",
    "\n",
    "'''\n",
    "Difference between PI and VI\n",
    "\n",
    "VI directy applies the optimal Bellman operator at every iteration. This allows it to converge to the optimal\n",
    "value function. Once it does, a single policy extration step is done to get the optimal policy.\n",
    "\n",
    "However, PI performs 2 steps at each iteration: \n",
    "1. Policy evaluation: it applies the Bellman operator using a potentially suboptimal policy until convergence.\n",
    "2. Policy improvment: improves the current policy by taking the actions that maximize the current value function\n",
    "'''"
   ]
  },
  {
   "cell_type": "markdown",
   "id": "restricted-subscriber",
   "metadata": {},
   "source": [
    "## Task 4"
   ]
  },
  {
   "cell_type": "code",
   "execution_count": 22,
   "id": "major-tuition",
   "metadata": {},
   "outputs": [],
   "source": [
    "# make_random_gridworld returns a randomized gridworld with \n",
    "# transitions and rewards sampled from a uniform and normal \n",
    "# distributions respectively\n",
    "\n",
    "# task = make_random_gridworld(num_states, num_actions)\n",
    "\n",
    "\n",
    "# create at least 100 gridworlds of different sizes and plot the runtime of your algorithm\n",
    "# you can use the python time module for timing\n",
    "\n",
    "# POLICY ITERATION\n",
    "pi_times = []\n",
    "\n",
    "# Creating different lists for different worlds\n",
    "sparse_s = list(range(1, 35))\n",
    "const_small_a = [2]*34\n",
    "const_big_a = [30]*34\n",
    "dense_s = list(range(16, 50))\n",
    "dense_a = list(range(16, 50))\n",
    "\n",
    "# Creating gridworlds for P.I. and V.I. \n",
    "num_states = sparse_s + dense_s + sparse_s\n",
    "num_actions = const_small_a + const_small_a + const_big_a\n",
    "\n",
    "# Running and averaging times for P.I. and V.I.\n",
    "for state, action in zip(num_states, num_actions):\n",
    "    runtime = 0.\n",
    "    \n",
    "    for _ in range(10):\n",
    "        \n",
    "        task = make_random_gridworld(state, action)\n",
    "        agent = PolicyIterationAgent(task.observation_space, task.action_space)\n",
    "        start = time.time()\n",
    "        agent.run_policy_iteration(task.state_transition, task.rewards)\n",
    "        end = time.time()\n",
    "        \n",
    "        runtime += end - start\n",
    "        \n",
    "    pi_times.append(runtime/10)\n",
    "\n",
    "# VALUE ITERATION\n",
    "vi_times = []\n",
    "\n",
    "num_states = sparse_s + dense_s + sparse_s\n",
    "num_actions = const_small_a + const_small_a + const_big_a\n",
    "\n",
    "for state, action in zip(num_states, num_actions):\n",
    "    runtime = 0.\n",
    "    for _ in range(10):\n",
    "        \n",
    "        task = make_random_gridworld(state, action)\n",
    "        agent = ValueIterationAgent(task.observation_space, task.action_space)\n",
    "        start = time.time()\n",
    "        agent.run_value_iteration(task.state_transition, task.rewards)\n",
    "        end = time.time()\n",
    "\n",
    "        runtime += end - start\n",
    "    vi_times.append(runtime/10)\n",
    "    \n"
   ]
  },
  {
   "cell_type": "code",
   "execution_count": 23,
   "id": "foster-cleaner",
   "metadata": {},
   "outputs": [
    {
     "data": {
      "text/plain": [
       "Text(0, 0.5, 'seconds')"
      ]
     },
     "execution_count": 23,
     "metadata": {},
     "output_type": "execute_result"
    },
    {
     "data": {
      "image/png": "[encoded data removed]",
      "text/plain": [
       "<Figure size 432x288 with 1 Axes>"
      ]
     },
     "metadata": {
      "needs_background": "light"
     },
     "output_type": "display_data"
    },
    {
     "data": {
      "image/png": "[encoded data removed]",
      "text/plain": [
       "<Figure size 432x288 with 1 Axes>"
      ]
     },
     "metadata": {
      "needs_background": "light"
     },
     "output_type": "display_data"
    },
    {
     "data": {
      "image/png": "[encoded data removed]",
      "text/plain": [
       "<Figure size 432x288 with 1 Axes>"
      ]
     },
     "metadata": {
      "needs_background": "light"
     },
     "output_type": "display_data"
    }
   ],
   "source": [
    "# Plotting runtime vs number of states\n",
    "plt.figure()\n",
    "plt.plot(sparse_s, vi_times[:34])\n",
    "plt.plot(sparse_s, pi_times[:34], color=\"r\")\n",
    "plt.title(\"VI (blue) vs PI (red)\")\n",
    "plt.xlabel(\"# of states\")\n",
    "plt.ylabel(\"seconds\")\n",
    "\n",
    "plt.figure()\n",
    "plt.plot(dense_s, vi_times[34:68])\n",
    "plt.plot(dense_s, pi_times[34:68], color=\"r\")\n",
    "plt.title(\"VI (blue) vs PI (red)\")\n",
    "plt.xlabel(\"# of states\")\n",
    "plt.ylabel(\"seconds\")\n",
    "\n",
    "plt.figure()\n",
    "plt.plot(sparse_s, vi_times[68:])\n",
    "plt.plot(sparse_s, pi_times[68:], color=\"r\")\n",
    "plt.title(\"VI (blue) vs PI (red)\")\n",
    "plt.xlabel(\"# of states\")\n",
    "plt.ylabel(\"seconds\")"
   ]
  },
  {
   "cell_type": "markdown",
   "id": "extended-spanking",
   "metadata": {},
   "source": [
    "Do the results conform with your expectations? Write a small discussion."
   ]
  },
  {
   "cell_type": "code",
   "execution_count": null,
   "id": "greatest-python",
   "metadata": {},
   "outputs": [],
   "source": [
    "'''\n",
    "We can see that for gridworlds with small action and state spaces, value iteration \n",
    "is consitently faster than policy iteration. However, with a gridworld with a dense\n",
    "action space and a sparse state space (3rd graph), policy iteration is much faster \n",
    "than value iteration. This makes sense as P.I. has less iterations than V.I. with \n",
    "O(S^3 + AS^2) per iteration whereas V.I. is O(AS^2). \n",
    "\n",
    "In the case of dense action space but sparse state space, AS^2 dominates the complexity, \n",
    "and as V.I. iterates more, it has to loop over A and S many more times than P.I. does, \n",
    "which why we see it is slower in the 3rd graph.\n",
    "\n",
    "However with the first two graphs, S dominates the complexity, and since P.I. has an \n",
    "S^3 term in it, it stays slower than V.I. in those cases.\n",
    "'''"
   ]
  },
  {
   "cell_type": "code",
   "execution_count": 120,
   "id": "welsh-thong",
   "metadata": {},
   "outputs": [],
   "source": [
    "# Here we see the difference in runtime per iteration\n",
    "\n",
    "# VALUE ITERATION\n",
    "vi_times = []\n",
    "\n",
    "num_states = range(1, 30)\n",
    "num_actions = [2]*30\n",
    "\n",
    "for state, action in zip(num_states, num_actions):\n",
    "    \n",
    "    task = make_random_gridworld(state, action)\n",
    "    agent = ValueIterationAgent(task.observation_space, task.action_space)\n",
    "    \n",
    "    times = []\n",
    "    done_value = False\n",
    "    while not done_value:\n",
    "\n",
    "        start = time.time()\n",
    "        last_values = agent.values.copy()\n",
    "        agent.values = agent.policy_evaluation(task.state_transition, task.rewards)\n",
    "        done_value = np.all(np.isclose(last_values, agent.values))\n",
    "        end = time.time()\n",
    "        \n",
    "        times.append(end - start)\n",
    "\n",
    "    agent.policy = agent.policy_improvement(task.state_transition, task.rewards)\n",
    "    vi_times.append(np.mean(times))\n",
    "\n",
    "    \n",
    "# POLICY ITERATION\n",
    "pi_times = []\n",
    "\n",
    "for state, action in zip(num_states, num_actions):\n",
    "    \n",
    "    agent = PolicyIterationAgent(task.observation_space, task.action_space)\n",
    "    agent.run_policy_iteration(task.state_transition, task.rewards)\n",
    "    \n",
    "    times = []\n",
    "    done_policy = False\n",
    "\n",
    "    while not done_policy:\n",
    "        start = time.time()\n",
    "        done_value = False\n",
    "\n",
    "        while not done_value:\n",
    "            last_values = agent.values.copy()\n",
    "            agent.values = agent.policy_evaluation(task.state_transition, task.rewards)\n",
    "            done_value = np.all(np.isclose(last_values, agent.values))\n",
    "            \n",
    "        last_policy = agent.policy.copy()\n",
    "        agent.policy = agent.policy_improvement(task.state_transition, task.rewards)\n",
    "        done_policy = np.all(last_policy == agent.policy)\n",
    "        end = time.time()\n",
    "        \n",
    "        times.append(end - start)\n",
    "\n",
    "    pi_times.append(np.mean(times))"
   ]
  },
  {
   "cell_type": "code",
   "execution_count": 121,
   "id": "acknowledged-ladder",
   "metadata": {},
   "outputs": [
    {
     "data": {
      "text/plain": [
       "Text(0, 0.5, 'seconds')"
      ]
     },
     "execution_count": 121,
     "metadata": {},
     "output_type": "execute_result"
    },
    {
     "data": {
      "image/png": "[encoded data removed]",
      "text/plain": [
       "<Figure size 432x288 with 1 Axes>"
      ]
     },
     "metadata": {
      "needs_background": "light"
     },
     "output_type": "display_data"
    }
   ],
   "source": [
    "plt.figure()\n",
    "plt.plot(num_states, vi_times)\n",
    "plt.plot(num_states, pi_times, color=\"r\")\n",
    "plt.title(\"avg iteration time VI (blue) vs PI (red)\")\n",
    "plt.xlabel(\"# of states\")\n",
    "plt.ylabel(\"seconds\")"
   ]
  },
  {
   "cell_type": "code",
   "execution_count": null,
   "id": "advance-least",
   "metadata": {},
   "outputs": [],
   "source": [
    "'''\n",
    "We can see that an iteration of V.I. is consistently faster than one of P.I. as expected.\n",
    "But in this graph, the number of states grows linearly which is why we see that V.I. \n",
    "iterations are getting slower and slower, but remain faster than P.I.\n",
    "'''"
   ]
  }
 ],
 "metadata": {
  "kernelspec": {
   "display_name": "Python 3",
   "language": "python",
   "name": "python3"
  },
  "language_info": {
   "codemirror_mode": {
    "name": "ipython",
    "version": 3
   },
   "file_extension": ".py",
   "mimetype": "text/x-python",
   "name": "python",
   "nbconvert_exporter": "python",
   "pygments_lexer": "ipython3",
   "version": "3.7.4"
  }
 },
 "nbformat": 4,
 "nbformat_minor": 5
}
